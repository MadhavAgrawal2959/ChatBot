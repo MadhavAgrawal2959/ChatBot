{
 "cells": [
  {
   "cell_type": "code",
   "execution_count": 18,
   "metadata": {},
   "outputs": [
    {
     "name": "stdout",
     "output_type": "stream",
     "text": [
      "cuda\n"
     ]
    }
   ],
   "source": [
    "import torch\n",
    "device='cuda' if torch.cuda.is_available() else 'cpu'\n",
    "print(device)"
   ]
  },
  {
   "cell_type": "code",
   "execution_count": 4,
   "metadata": {},
   "outputs": [
    {
     "name": "stdout",
     "output_type": "stream",
     "text": [
      "The Project Gutenberg eBook of Dorothy and the Wizard in Oz\n",
      "    \n",
      "This ebook is for the use of anyone anywhere in the United States and\n",
      "most other parts of the world at no cost and with almost no rest\n"
     ]
    }
   ],
   "source": [
    "with open('wizard_of_oz.txt','r',encoding='utf-8') as file:\n",
    "    text=file.read()\n",
    "print(text[:200])\n",
    "\n",
    "# print(text) // to print the whole text"
   ]
  },
  {
   "cell_type": "code",
   "execution_count": 5,
   "metadata": {},
   "outputs": [
    {
     "name": "stdout",
     "output_type": "stream",
     "text": [
      "{'K', '*', ' ', 'l', 'P', 'c', '\\ufeff', 'u', 'x', ')', '[', 't', 'G', '!', 'L', 'Z', '6', 'i', '4', '\"', '7', 'q', 'H', ']', 'S', '5', 'U', 'A', 'g', 'R', '-', 'd', 'w', 'I', ',', '0', 'b', 'j', 'X', '\\n', 'r', 'e', '/', 'B', 'a', 'n', 'E', 'Q', 'p', 'k', '(', ';', 'D', '?', 'N', 'y', '8', 'C', ':', '#', '.', '_', '1', '2', 's', 'T', '9', '&', 'h', 'F', 'Y', 'o', 'm', 'W', 'z', \"'\", 'v', 'V', 'J', 'M', '3', 'O', 'f'}\n",
      "83\n"
     ]
    }
   ],
   "source": [
    "chars=set(sorted(text))\n",
    "print(chars)\n",
    "print(len(chars))"
   ]
  },
  {
   "cell_type": "code",
   "execution_count": 6,
   "metadata": {},
   "outputs": [
    {
     "name": "stdout",
     "output_type": "stream",
     "text": [
      "[68, 41, 3, 3, 71]\n",
      "hello\n"
     ]
    }
   ],
   "source": [
    "string_to_int = {ch: i for i, ch in enumerate(chars)}\n",
    "int_to_string = {i: ch for i, ch in enumerate(chars)}\n",
    "encode = lambda s: [string_to_int[c] for c in s]\n",
    "decode = lambda l: ''.join([int_to_string[i] for i in l])\n",
    "\n",
    "print(encode('hello'))\n",
    "\n",
    "encoded_hello=encode('hello')\n",
    "decoded_hello=decode(encoded_hello)\n",
    "print(decoded_hello)"
   ]
  },
  {
   "cell_type": "code",
   "execution_count": 7,
   "metadata": {},
   "outputs": [
    {
     "name": "stdout",
     "output_type": "stream",
     "text": [
      "tensor([ 6, 65, 68, 41,  2,  4, 40, 71, 37, 41,  5, 11,  2, 12,  7, 11, 41, 45,\n",
      "        36, 41, 40, 28,  2, 41, 43, 71, 71, 49,  2, 71, 82,  2, 52, 71, 40, 71,\n",
      "        11, 68, 55,  2, 44, 45, 31,  2, 11, 68, 41,  2, 73, 17, 74, 44, 40, 31,\n",
      "         2, 17, 45,  2, 81, 74, 39,  2,  2,  2,  2, 39, 65, 68, 17, 64,  2, 41,\n",
      "        36, 71, 71, 49,  2, 17, 64,  2, 82, 71, 40,  2, 11, 68, 41,  2,  7, 64,\n",
      "        41,  2, 71, 82,  2, 44, 45, 55, 71, 45])\n"
     ]
    }
   ],
   "source": [
    "import torch\n",
    "\n",
    "string_to_int = {ch: i for i, ch in enumerate(chars)}\n",
    "int_to_string = {i: ch for i, ch in enumerate(chars)}\n",
    "encode = lambda s: [string_to_int[c] for c in s]\n",
    "decode = lambda l: ''.join([int_to_string[i] for i in l])\n",
    "\n",
    "data = torch.tensor(encode(text),dtype =torch.long)\n",
    "print(data[:100])"
   ]
  },
  {
   "cell_type": "code",
   "execution_count": 13,
   "metadata": {},
   "outputs": [
    {
     "name": "stdout",
     "output_type": "stream",
     "text": [
      "torch.Size([186743]) torch.Size([46686])\n",
      "tensor([ 6, 65, 68,  ...,  2, 69, 17])\n",
      "tensor([40, 64, 11,  ..., 45, 31, 39])\n"
     ]
    }
   ],
   "source": [
    "n=int(0.8*len(data))\n",
    "train_data=data[:n]\n",
    "val_data=data[n:]\n",
    "\n",
    "print(train_data.shape,val_data.shape)\n",
    "\n",
    "print(train_data)\n",
    "\n",
    "print(val_data)"
   ]
  },
  {
   "cell_type": "code",
   "execution_count": 17,
   "metadata": {},
   "outputs": [
    {
     "name": "stdout",
     "output_type": "stream",
     "text": [
      "when input is  tensor([6]) target is  tensor(65)\n",
      "when input is  tensor([ 6, 65]) target is  tensor(68)\n",
      "when input is  tensor([ 6, 65, 68]) target is  tensor(41)\n",
      "when input is  tensor([ 6, 65, 68, 41]) target is  tensor(2)\n",
      "when input is  tensor([ 6, 65, 68, 41,  2]) target is  tensor(4)\n",
      "when input is  tensor([ 6, 65, 68, 41,  2,  4]) target is  tensor(40)\n",
      "when input is  tensor([ 6, 65, 68, 41,  2,  4, 40]) target is  tensor(71)\n",
      "when input is  tensor([ 6, 65, 68, 41,  2,  4, 40, 71]) target is  tensor(37)\n"
     ]
    }
   ],
   "source": [
    "block_size  = 8\n",
    "x = train_data[:block_size]\n",
    "y = train_data[1:block_size+1]\n",
    "\n",
    "for t in range(block_size):\n",
    "    context=x[ :t+1]\n",
    "    target=y[t]\n",
    "    print(\"when input is \",context,\"target is \",target)"
   ]
  }
 ],
 "metadata": {
  "kernelspec": {
   "display_name": "cuda",
   "language": "python",
   "name": "python3"
  },
  "language_info": {
   "codemirror_mode": {
    "name": "ipython",
    "version": 3
   },
   "file_extension": ".py",
   "mimetype": "text/x-python",
   "name": "python",
   "nbconvert_exporter": "python",
   "pygments_lexer": "ipython3",
   "version": "3.12.4"
  }
 },
 "nbformat": 4,
 "nbformat_minor": 2
}
