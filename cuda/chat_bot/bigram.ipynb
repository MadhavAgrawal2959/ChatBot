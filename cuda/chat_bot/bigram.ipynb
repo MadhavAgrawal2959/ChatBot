{
 "cells": [
  {
   "cell_type": "code",
   "execution_count": 1,
   "metadata": {},
   "outputs": [
    {
     "name": "stdout",
     "output_type": "stream",
     "text": [
      "The Project Gutenberg eBook of Dorothy and the Wizard in Oz\n",
      "    \n",
      "This ebook is for the use of anyone anywhere in the United States and\n",
      "most other parts of the world at no cost and with almost no rest\n"
     ]
    }
   ],
   "source": [
    "with open('wizard_of_oz.txt','r',encoding='utf-8') as file:\n",
    "    text=file.read()\n",
    "print(text[:200])\n",
    "\n",
    "# print(text) // to print the whole text"
   ]
  },
  {
   "cell_type": "code",
   "execution_count": 6,
   "metadata": {},
   "outputs": [
    {
     "name": "stdout",
     "output_type": "stream",
     "text": [
      "{'o', '(', 'J', 'm', 'Z', ';', 'B', '3', 'q', 'Q', '6', '8', ']', '5', 'L', 'E', '\\n', '1', 'n', 'a', 't', '!', 'R', 'D', 'e', '*', 'O', '.', 'i', 'S', ',', 'N', 'M', 'H', 'X', '4', 'u', 'F', 'z', 'x', 'j', 'k', '7', 'r', ')', 'y', 'l', '/', 'v', 'A', 'p', 'Y', 'U', 'C', '0', 'G', '[', 'g', 'P', 'f', 'b', '?', 's', 'W', 'd', 'I', '\\ufeff', \"'\", '-', 'h', ' ', '9', 'V', 'K', ':', '2', '_', 'T', '&', '\"', 'c', '#', 'w'}\n",
      "83\n"
     ]
    }
   ],
   "source": [
    "chars=set(sorted(text))\n",
    "print(chars)\n",
    "print(len(chars))"
   ]
  },
  {
   "cell_type": "code",
   "execution_count": 11,
   "metadata": {},
   "outputs": [
    {
     "name": "stdout",
     "output_type": "stream",
     "text": [
      "[69, 24, 46, 46, 0]\n",
      "hello\n"
     ]
    }
   ],
   "source": [
    "string_to_int = {ch: i for i, ch in enumerate(chars)}\n",
    "int_to_string = {i: ch for i, ch in enumerate(chars)}\n",
    "encode = lambda s: [string_to_int[c] for c in s]\n",
    "decode = lambda l: ''.join([int_to_string[i] for i in l])\n",
    "\n",
    "print(encode('hello'))\n",
    "\n",
    "encoded_hello=encode('hello')\n",
    "decoded_hello=decode(encoded_hello)\n",
    "print(decoded_hello)"
   ]
  },
  {
   "cell_type": "code",
   "execution_count": 10,
   "metadata": {},
   "outputs": [
    {
     "name": "stdout",
     "output_type": "stream",
     "text": [
      "tensor([66, 77, 69, 24, 70, 58, 43,  0, 40, 24, 80, 20, 70, 55, 36, 20, 24, 18,\n",
      "        60, 24, 43, 57, 70, 24,  6,  0,  0, 41, 70,  0, 59, 70, 23,  0, 43,  0,\n",
      "        20, 69, 45, 70, 19, 18, 64, 70, 20, 69, 24, 70, 63, 28, 38, 19, 43, 64,\n",
      "        70, 28, 18, 70, 26, 38, 16, 70, 70, 70, 70, 16, 77, 69, 28, 62, 70, 24,\n",
      "        60,  0,  0, 41, 70, 28, 62, 70, 59,  0, 43, 70, 20, 69, 24, 70, 36, 62,\n",
      "        24, 70,  0, 59, 70, 19, 18, 45,  0, 18])\n"
     ]
    }
   ],
   "source": [
    "import torch\n",
    "\n",
    "string_to_int = {ch: i for i, ch in enumerate(chars)}\n",
    "int_to_string = {i: ch for i, ch in enumerate(chars)}\n",
    "encode = lambda s: [string_to_int[c] for c in s]\n",
    "decode = lambda l: ''.join([int_to_string[i] for i in l])\n",
    "\n",
    "data = torch.tensor(encode(text),dtype =torch.long)\n",
    "print(data[:100])"
   ]
  }
 ],
 "metadata": {
  "kernelspec": {
   "display_name": "cuda",
   "language": "python",
   "name": "python3"
  },
  "language_info": {
   "codemirror_mode": {
    "name": "ipython",
    "version": 3
   },
   "file_extension": ".py",
   "mimetype": "text/x-python",
   "name": "python",
   "nbconvert_exporter": "python",
   "pygments_lexer": "ipython3",
   "version": "3.12.4"
  }
 },
 "nbformat": 4,
 "nbformat_minor": 2
}
